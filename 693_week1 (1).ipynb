{
  "nbformat": 4,
  "nbformat_minor": 0,
  "metadata": {
    "colab": {
      "provenance": []
    },
    "kernelspec": {
      "name": "python3",
      "display_name": "Python 3"
    },
    "language_info": {
      "name": "python"
    }
  },
  "cells": [
    {
      "cell_type": "code",
      "execution_count": 1,
      "metadata": {
        "colab": {
          "base_uri": "https://localhost:8080/"
        },
        "id": "ckguULfSnS1x",
        "outputId": "cdc7f2b2-adf6-4b03-aef2-8b8737751466"
      },
      "outputs": [
        {
          "output_type": "stream",
          "name": "stdout",
          "text": [
            "hello ILSZ639\n"
          ]
        }
      ],
      "source": [
        "print('hello ILSZ639')"
      ]
    },
    {
      "cell_type": "code",
      "source": [
        "From the classroom 2015"
      ],
      "metadata": {
        "colab": {
          "base_uri": "https://localhost:8080/",
          "height": 106
        },
        "id": "_VRurCkpncIO",
        "outputId": "ff1dac64-dbbd-47c4-a57c-44a78c20ef2e"
      },
      "execution_count": 2,
      "outputs": [
        {
          "output_type": "error",
          "ename": "SyntaxError",
          "evalue": "invalid syntax (<ipython-input-2-32fa8a0a8be7>, line 1)",
          "traceback": [
            "\u001b[0;36m  File \u001b[0;32m\"<ipython-input-2-32fa8a0a8be7>\"\u001b[0;36m, line \u001b[0;32m1\u001b[0m\n\u001b[0;31m    From the classroom 2015\u001b[0m\n\u001b[0m         ^\u001b[0m\n\u001b[0;31mSyntaxError\u001b[0m\u001b[0;31m:\u001b[0m invalid syntax\n"
          ]
        }
      ]
    },
    {
      "cell_type": "code",
      "source": [
        "import json\n",
        "with open('sample_data/anscombe.json','r') as fin:data=json.load(fin)\n",
        "print(type(data))\n",
        "for x in data:\n",
        "  print(x)"
      ],
      "metadata": {
        "colab": {
          "base_uri": "https://localhost:8080/"
        },
        "id": "gTQJ1deRpkK-",
        "outputId": "6a959389-80fb-481c-b0bd-956384202a5a"
      },
      "execution_count": 3,
      "outputs": [
        {
          "output_type": "stream",
          "name": "stdout",
          "text": [
            "<class 'list'>\n",
            "{'Series': 'I', 'X': 10.0, 'Y': 8.04}\n",
            "{'Series': 'I', 'X': 8.0, 'Y': 6.95}\n",
            "{'Series': 'I', 'X': 13.0, 'Y': 7.58}\n",
            "{'Series': 'I', 'X': 9.0, 'Y': 8.81}\n",
            "{'Series': 'I', 'X': 11.0, 'Y': 8.33}\n",
            "{'Series': 'I', 'X': 14.0, 'Y': 9.96}\n",
            "{'Series': 'I', 'X': 6.0, 'Y': 7.24}\n",
            "{'Series': 'I', 'X': 4.0, 'Y': 4.26}\n",
            "{'Series': 'I', 'X': 12.0, 'Y': 10.84}\n",
            "{'Series': 'I', 'X': 7.0, 'Y': 4.81}\n",
            "{'Series': 'I', 'X': 5.0, 'Y': 5.68}\n",
            "{'Series': 'II', 'X': 10.0, 'Y': 9.14}\n",
            "{'Series': 'II', 'X': 8.0, 'Y': 8.14}\n",
            "{'Series': 'II', 'X': 13.0, 'Y': 8.74}\n",
            "{'Series': 'II', 'X': 9.0, 'Y': 8.77}\n",
            "{'Series': 'II', 'X': 11.0, 'Y': 9.26}\n",
            "{'Series': 'II', 'X': 14.0, 'Y': 8.1}\n",
            "{'Series': 'II', 'X': 6.0, 'Y': 6.13}\n",
            "{'Series': 'II', 'X': 4.0, 'Y': 3.1}\n",
            "{'Series': 'II', 'X': 12.0, 'Y': 9.13}\n",
            "{'Series': 'II', 'X': 7.0, 'Y': 7.26}\n",
            "{'Series': 'II', 'X': 5.0, 'Y': 4.74}\n",
            "{'Series': 'III', 'X': 10.0, 'Y': 7.46}\n",
            "{'Series': 'III', 'X': 8.0, 'Y': 6.77}\n",
            "{'Series': 'III', 'X': 13.0, 'Y': 12.74}\n",
            "{'Series': 'III', 'X': 9.0, 'Y': 7.11}\n",
            "{'Series': 'III', 'X': 11.0, 'Y': 7.81}\n",
            "{'Series': 'III', 'X': 14.0, 'Y': 8.84}\n",
            "{'Series': 'III', 'X': 6.0, 'Y': 6.08}\n",
            "{'Series': 'III', 'X': 4.0, 'Y': 5.39}\n",
            "{'Series': 'III', 'X': 12.0, 'Y': 8.15}\n",
            "{'Series': 'III', 'X': 7.0, 'Y': 6.42}\n",
            "{'Series': 'III', 'X': 5.0, 'Y': 5.73}\n",
            "{'Series': 'IV', 'X': 8.0, 'Y': 6.58}\n",
            "{'Series': 'IV', 'X': 8.0, 'Y': 5.76}\n",
            "{'Series': 'IV', 'X': 8.0, 'Y': 7.71}\n",
            "{'Series': 'IV', 'X': 8.0, 'Y': 8.84}\n",
            "{'Series': 'IV', 'X': 8.0, 'Y': 8.47}\n",
            "{'Series': 'IV', 'X': 8.0, 'Y': 7.04}\n",
            "{'Series': 'IV', 'X': 8.0, 'Y': 5.25}\n",
            "{'Series': 'IV', 'X': 19.0, 'Y': 12.5}\n",
            "{'Series': 'IV', 'X': 8.0, 'Y': 5.56}\n",
            "{'Series': 'IV', 'X': 8.0, 'Y': 7.91}\n",
            "{'Series': 'IV', 'X': 8.0, 'Y': 6.89}\n"
          ]
        }
      ]
    }
  ]
}